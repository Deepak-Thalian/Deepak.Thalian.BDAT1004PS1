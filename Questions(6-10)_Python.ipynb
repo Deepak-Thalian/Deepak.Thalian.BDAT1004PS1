{
 "cells": [
  {
   "cell_type": "markdown",
   "id": "6509fddb",
   "metadata": {},
   "source": [
    "# Question 6\n",
    "You can turn a word into pig-Latin using the following two rules (simplified):\n",
    "\n",
    "• If the word starts with a consonant, move that letter to the end and append 'ay'. For example, 'happy' becomes 'appyhay' and 'pencil' becomes 'encilpay'.\n",
    "\n",
    "• If the word starts with a vowel, simply append 'way' to the end of the word. For example, 'enter' becomes 'enterway' and 'other' becomes 'otherway' . For our purposes, there are 5 vowels: a, e, i, o, u (so we count y as a consonant).\n",
    "\n",
    "Write a function pig() that takes a word (i.e., a string) as input and returns its pigLatin form. Your function should still work if the input word contains upper case characters. Your output should always be lower case however.\n",
    "\n",
    "pig('happy') 'appyhay'\n",
    "pig('Enter') 'enterway'"
   ]
  },
  {
   "cell_type": "code",
   "execution_count": 1,
   "id": "4a4324ad",
   "metadata": {},
   "outputs": [
    {
     "name": "stdout",
     "output_type": "stream",
     "text": [
      "Enter the word: happy\n",
      "appyhay\n"
     ]
    }
   ],
   "source": [
    "pig=input(\"Enter the word: \")\n",
    "vowels = ['a','e','i','o','u']\n",
    "\n",
    "def pigLatin(pig) :\n",
    "    pigLower = pig.lower()\n",
    "    pigFirstletter = pigLower[0]\n",
    "\n",
    "    if pigFirstletter in vowels :\n",
    "        pig = pigLower+'way'\n",
    "        return pig\n",
    "    else :\n",
    "        pig = pigLower[1:]+pigLower[0]+'ay'\n",
    "        return pig\n",
    "    \n",
    "print(pigLatin(pig)) "
   ]
  },
  {
   "cell_type": "code",
   "execution_count": 2,
   "id": "0fb1cc7d",
   "metadata": {},
   "outputs": [
    {
     "name": "stdout",
     "output_type": "stream",
     "text": [
      "Enter the word: Enter\n",
      "enterway\n"
     ]
    }
   ],
   "source": [
    "pig=input(\"Enter the word: \")\n",
    "vowels = ['a','e','i','o','u']\n",
    "\n",
    "def pigLatin(pig) :\n",
    "    pigLower = pig.lower()\n",
    "    pigFirstLetter = pigLower[0]\n",
    "\n",
    "    if pigFirstLetter in vowels :\n",
    "        pig = pigLower+'way'\n",
    "        return pig\n",
    "    else :\n",
    "        pig = pigLower[1:]+pigLower[0]+'ay'\n",
    "        return pig\n",
    "    \n",
    "print(pigLatin(pig))"
   ]
  },
  {
   "cell_type": "markdown",
   "id": "b0a63901",
   "metadata": {},
   "source": [
    "# Question 7\n",
    "File bloodtype1.txt records blood-types of patients (A, B, AB, O or OO) at a clinic. Write a function bldcount() that reads the file with name name and reports (i.e., prints) how many patients there are in each bloodtype.\n",
    "\n",
    "bldcount('bloodtype.txt')\n",
    "\n",
    "There are 10 patients of blood type A. There is one patient of blood type B. There are 10 patients of blood type AB. There are 12 patients of blood type O. There are no patients of blood type OO."
   ]
  },
  {
   "cell_type": "code",
   "execution_count": 3,
   "id": "42f70836",
   "metadata": {},
   "outputs": [
    {
     "name": "stdout",
     "output_type": "stream",
     "text": [
      "There are 15 patients of blood type A\n",
      "There are 1 patients of blood type B\n",
      "There are 13 patients of blood type AB\n",
      "There are 15 patients of blood type O\n",
      "There are 0 patients of blood type OO\n"
     ]
    }
   ],
   "source": [
    "def bldcount():\n",
    "    file = open(\"bloodtype1.txt\", \"r\")\n",
    "    file1 = file.read()\n",
    "    file.close()\n",
    "    groups = file1.split()\n",
    "    print(\"There are \" + str(groups.count(\"A\"))+ \" patients of blood type A\")\n",
    "    print(\"There are \" + str(groups.count(\"B\"))+ \" patients of blood type B\")\n",
    "    print(\"There are \" + str(groups.count(\"AB\"))+ \" patients of blood type AB\")\n",
    "    print(\"There are \" + str(groups.count(\"O\"))+ \" patients of blood type O\")\n",
    "    print(\"There are \" + str(groups.count(\"OO\"))+ \" patients of blood type OO\")\n",
    "    \n",
    "bldcount()"
   ]
  },
  {
   "cell_type": "markdown",
   "id": "c9031912",
   "metadata": {},
   "source": [
    "# Question 8\n",
    "Write a function curconv() that takes as input:\n",
    "\n",
    "1. a currency represented using a string (e.g., 'JPY' for the Japanese Yen or\n",
    "'EUR' for the Euro)\n",
    "2. an amount\n",
    "and then converts and returns the amount in US dollars.\n",
    ">>> curconv('EUR', 100)\n",
    "122.96544\n",
    ">>> curconv('JPY', 100)\n",
    "1.241401\n",
    "\n",
    "The currency rates you will need are stored in file currencies.txt:\n",
    "\n",
    "AUD 1.0345157 Australian Dollar\\ CHF 1.0237414 Swiss Franc\\ -CNY 0.1550176 Chinese Yuan\\ -DKK 0.1651442 Danish Krone\\ -EUR 1.2296544 Euro\\ -GBP 1.5550989 British Pound\\ -HKD 0.1270207 Hong Kong Dollar\\ -INR 0.0177643 Indian Rupee\\ -JPY 0.01241401 Japanese Yen\\ -MXN 0.0751848 Mexican Peso\\ -MYR 0.3145411 Malaysian Ringgit\\ -NOK 0.1677063 Norwegian Krone\\ -NZD 0.8003591 New Zealand Dollar\\ -PHP 0.0233234 Philippine Peso\\ -SEK 0.148269 Swedish Krona\\ -SGD 0.788871 Singapore D"
   ]
  },
  {
   "cell_type": "code",
   "execution_count": 4,
   "id": "dd562250",
   "metadata": {},
   "outputs": [
    {
     "name": "stdout",
     "output_type": "stream",
     "text": [
      "122.96544\n"
     ]
    }
   ],
   "source": [
    "def curconv(currency,amount):\n",
    "    file = open(\"currencies.txt\", \"r\")\n",
    "    file1 = file.readlines()\n",
    "    file.close()\n",
    "    for file in file1 :\n",
    "        group = file.split()\n",
    "        if currency == group[0]:\n",
    "            currency = float(group[1])\n",
    "            valueconv = amount * currency\n",
    "        \n",
    "    print(valueconv)   \n",
    "        \n",
    "curconv('EUR',100)"
   ]
  },
  {
   "cell_type": "code",
   "execution_count": 5,
   "id": "12d8475f",
   "metadata": {},
   "outputs": [
    {
     "name": "stdout",
     "output_type": "stream",
     "text": [
      "1.241401\n"
     ]
    }
   ],
   "source": [
    "def curconv(currency,amount):\n",
    "    file = open(\"currencies.txt\", \"r\")\n",
    "    file1 = file.readlines()\n",
    "    file.close()\n",
    "    for file in file1 :\n",
    "        group = file.split()\n",
    "        if currency == group[0]:\n",
    "            currency = float(group[1])\n",
    "            valueconv = amount * currency\n",
    "        \n",
    "    print(valueconv)    \n",
    "    \n",
    "curconv('JPY',100)"
   ]
  },
  {
   "cell_type": "markdown",
   "id": "1ea1b593",
   "metadata": {},
   "source": [
    "# Question 9\n",
    "Each of the following will cause an exception (an error). Identify what type of exception each will cause.\n",
    "\n",
    "\n",
    "Trying to add incompatible variables, as in adding 6 + ‘a’\n",
    "\n",
    "Referring to the 12th item of a list that has only 10 items\n",
    "\n",
    "Using a value that is out of range for a function’s input, such as calling math.sqrt(-1.0)\n",
    "\n",
    "Using an undeclared variable, such as print(x) when x has not been defined\n",
    "\n",
    "Trying to open a file that does not exist, such as mistyping the file name or looking in the wrong directory.\n"
   ]
  },
  {
   "cell_type": "code",
   "execution_count": 18,
   "id": "d1d26e29",
   "metadata": {},
   "outputs": [
    {
     "ename": "TypeError",
     "evalue": "unsupported operand type(s) for +: 'int' and 'str'",
     "output_type": "error",
     "traceback": [
      "\u001b[1;31m---------------------------------------------------------------------------\u001b[0m",
      "\u001b[1;31mTypeError\u001b[0m                                 Traceback (most recent call last)",
      "\u001b[1;32m~\\AppData\\Local\\Temp/ipykernel_14032/3134663420.py\u001b[0m in \u001b[0;36m<module>\u001b[1;34m\u001b[0m\n\u001b[0;32m      1\u001b[0m \u001b[1;31m#1\u001b[0m\u001b[1;33m\u001b[0m\u001b[1;33m\u001b[0m\u001b[0m\n\u001b[1;32m----> 2\u001b[1;33m \u001b[1;36m6\u001b[0m \u001b[1;33m+\u001b[0m \u001b[1;34m'a'\u001b[0m\u001b[1;33m\u001b[0m\u001b[1;33m\u001b[0m\u001b[0m\n\u001b[0m",
      "\u001b[1;31mTypeError\u001b[0m: unsupported operand type(s) for +: 'int' and 'str'"
     ]
    }
   ],
   "source": [
    "#1\n",
    "6 + 'a'"
   ]
  },
  {
   "cell_type": "code",
   "execution_count": 19,
   "id": "6e198abb",
   "metadata": {},
   "outputs": [
    {
     "ename": "IndexError",
     "evalue": "list index out of range",
     "output_type": "error",
     "traceback": [
      "\u001b[1;31m---------------------------------------------------------------------------\u001b[0m",
      "\u001b[1;31mIndexError\u001b[0m                                Traceback (most recent call last)",
      "\u001b[1;32m~\\AppData\\Local\\Temp/ipykernel_14032/2374407150.py\u001b[0m in \u001b[0;36m<module>\u001b[1;34m\u001b[0m\n\u001b[0;32m      1\u001b[0m \u001b[1;31m#2\u001b[0m\u001b[1;33m\u001b[0m\u001b[1;33m\u001b[0m\u001b[0m\n\u001b[0;32m      2\u001b[0m \u001b[0mlist\u001b[0m\u001b[1;33m=\u001b[0m\u001b[1;33m[\u001b[0m\u001b[1;34m'a'\u001b[0m\u001b[1;33m,\u001b[0m\u001b[1;34m'aa'\u001b[0m\u001b[1;33m,\u001b[0m \u001b[1;34m'b'\u001b[0m\u001b[1;33m,\u001b[0m\u001b[1;34m'bb'\u001b[0m\u001b[1;33m,\u001b[0m\u001b[1;34m'c'\u001b[0m\u001b[1;33m,\u001b[0m\u001b[1;34m'cc'\u001b[0m\u001b[1;33m,\u001b[0m\u001b[1;34m'd'\u001b[0m\u001b[1;33m,\u001b[0m\u001b[1;34m'dd'\u001b[0m\u001b[1;33m,\u001b[0m\u001b[1;34m'e'\u001b[0m\u001b[1;33m,\u001b[0m\u001b[1;34m'ee'\u001b[0m\u001b[1;33m]\u001b[0m\u001b[1;33m\u001b[0m\u001b[1;33m\u001b[0m\u001b[0m\n\u001b[1;32m----> 3\u001b[1;33m \u001b[0mprint\u001b[0m\u001b[1;33m(\u001b[0m\u001b[0mlist\u001b[0m\u001b[1;33m[\u001b[0m\u001b[1;36m12\u001b[0m\u001b[1;33m]\u001b[0m\u001b[1;33m)\u001b[0m\u001b[1;33m\u001b[0m\u001b[1;33m\u001b[0m\u001b[0m\n\u001b[0m",
      "\u001b[1;31mIndexError\u001b[0m: list index out of range"
     ]
    }
   ],
   "source": [
    "#2\n",
    "list=['a','aa', 'b','bb','c','cc','d','dd','e','ee']\n",
    "print(list[12])"
   ]
  },
  {
   "cell_type": "code",
   "execution_count": 9,
   "id": "05629143",
   "metadata": {},
   "outputs": [
    {
     "ename": "ValueError",
     "evalue": "math domain error",
     "output_type": "error",
     "traceback": [
      "\u001b[1;31m---------------------------------------------------------------------------\u001b[0m",
      "\u001b[1;31mValueError\u001b[0m                                Traceback (most recent call last)",
      "\u001b[1;32m~\\AppData\\Local\\Temp/ipykernel_14032/801973259.py\u001b[0m in \u001b[0;36m<module>\u001b[1;34m\u001b[0m\n\u001b[0;32m      2\u001b[0m \u001b[1;32mimport\u001b[0m \u001b[0mmath\u001b[0m\u001b[1;33m\u001b[0m\u001b[1;33m\u001b[0m\u001b[0m\n\u001b[0;32m      3\u001b[0m \u001b[1;33m\u001b[0m\u001b[0m\n\u001b[1;32m----> 4\u001b[1;33m \u001b[0mprint\u001b[0m\u001b[1;33m(\u001b[0m\u001b[0mmath\u001b[0m\u001b[1;33m.\u001b[0m\u001b[0msqrt\u001b[0m\u001b[1;33m(\u001b[0m\u001b[1;33m-\u001b[0m\u001b[1;36m1.0\u001b[0m\u001b[1;33m)\u001b[0m\u001b[1;33m)\u001b[0m\u001b[1;33m\u001b[0m\u001b[1;33m\u001b[0m\u001b[0m\n\u001b[0m",
      "\u001b[1;31mValueError\u001b[0m: math domain error"
     ]
    }
   ],
   "source": [
    "#3\n",
    "import math\n",
    "\n",
    "print(math.sqrt(-1.0))"
   ]
  },
  {
   "cell_type": "code",
   "execution_count": 16,
   "id": "8943cf7f",
   "metadata": {},
   "outputs": [
    {
     "ename": "NameError",
     "evalue": "name 'x' is not defined",
     "output_type": "error",
     "traceback": [
      "\u001b[1;31m---------------------------------------------------------------------------\u001b[0m",
      "\u001b[1;31mNameError\u001b[0m                                 Traceback (most recent call last)",
      "\u001b[1;32m~\\AppData\\Local\\Temp/ipykernel_14032/3048061418.py\u001b[0m in \u001b[0;36m<module>\u001b[1;34m\u001b[0m\n\u001b[0;32m      1\u001b[0m \u001b[1;31m#4\u001b[0m\u001b[1;33m\u001b[0m\u001b[1;33m\u001b[0m\u001b[0m\n\u001b[1;32m----> 2\u001b[1;33m \u001b[0mprint\u001b[0m\u001b[1;33m(\u001b[0m\u001b[0mx\u001b[0m\u001b[1;33m)\u001b[0m\u001b[1;33m\u001b[0m\u001b[1;33m\u001b[0m\u001b[0m\n\u001b[0m",
      "\u001b[1;31mNameError\u001b[0m: name 'x' is not defined"
     ]
    }
   ],
   "source": [
    "#4\n",
    "print(x)"
   ]
  },
  {
   "cell_type": "code",
   "execution_count": 13,
   "id": "1d54a95c",
   "metadata": {},
   "outputs": [
    {
     "ename": "ValueError",
     "evalue": "invalid mode: 'l'",
     "output_type": "error",
     "traceback": [
      "\u001b[1;31m---------------------------------------------------------------------------\u001b[0m",
      "\u001b[1;31mValueError\u001b[0m                                Traceback (most recent call last)",
      "\u001b[1;32m~\\AppData\\Local\\Temp/ipykernel_14032/1573249020.py\u001b[0m in \u001b[0;36m<module>\u001b[1;34m\u001b[0m\n\u001b[0;32m      1\u001b[0m \u001b[1;31m#5\u001b[0m\u001b[1;33m\u001b[0m\u001b[1;33m\u001b[0m\u001b[0m\n\u001b[1;32m----> 2\u001b[1;33m \u001b[0mf\u001b[0m \u001b[1;33m=\u001b[0m \u001b[0mopen\u001b[0m\u001b[1;33m(\u001b[0m\u001b[1;34m'languages.txt'\u001b[0m\u001b[1;33m,\u001b[0m\u001b[1;34m'l'\u001b[0m\u001b[1;33m)\u001b[0m\u001b[1;33m\u001b[0m\u001b[1;33m\u001b[0m\u001b[0m\n\u001b[0m",
      "\u001b[1;31mValueError\u001b[0m: invalid mode: 'l'"
     ]
    }
   ],
   "source": [
    "#5\n",
    "f = open('languages.txt','l')"
   ]
  },
  {
   "cell_type": "markdown",
   "id": "f7088673",
   "metadata": {},
   "source": [
    "# Question 10\n",
    "Encryption is the process of hiding the meaning of a text by substituting letters in the message with other letters, according to some system. If the process is successful, no one but the intended recipient can understand the encrypted message. Cryptanalysis refers to attempts to undo the encryption, even if some details of the encryption are unknown (for example, if an encrypted message has been intercepted).\\ The first step of cryptanalysis is often to build up a table of letter frequencies in the encrypted text.\n",
    "\n",
    "Assume that the string letters is already defined as 'abcdefghijklmnopqrstuvwxyz'.\\ Write a function called frequencies() that takes a string as its only parameter, and returns a list of integers, showing the number of times each character appears in the text. Your function may ignore any characters that are not in letters. *frequencies('The quick red fox got bored and went home.') [1, 1, 1, 3, 5, 1, 1, 2, 1, 0, 1, 0, 1, 2, 4, 0, 1, 2, 0, 2, 1, 0, 1, 1, 0, 0] -->frequencies('apple')"
   ]
  },
  {
   "cell_type": "code",
   "execution_count": 12,
   "id": "80116b81",
   "metadata": {},
   "outputs": [
    {
     "name": "stdout",
     "output_type": "stream",
     "text": [
      "['1', '1', '1', '3', '5', '1', '1', '2', '1', '0', '1', '0', '1', '2', '4', '0', '1', '2', '0', '2', '1', '0', '1', '1', '0', '0']\n",
      "['1', '0', '0', '0', '1', '0', '0', '0', '0', '0', '0', '1', '0', '0', '0', '2', '0', '0', '0', '0', '0', '0', '0', '0', '0', '0']\n"
     ]
    }
   ],
   "source": [
    "def frequencies(line):\n",
    "    frequenciesofline = []\n",
    "    alphabets = 'abcdefghijklmnopqrstuvwxyz'\n",
    "    for each in alphabets:\n",
    "        alphabet_count = (line.count(each))\n",
    "        frequenciesofline +=  str(alphabet_count)\n",
    "    print(frequenciesofline)\n",
    "    \n",
    "frequencies('The quick red fox got bored and went home.')\n",
    "frequencies('apple')"
   ]
  },
  {
   "cell_type": "code",
   "execution_count": null,
   "id": "ffc3d39c",
   "metadata": {},
   "outputs": [],
   "source": []
  }
 ],
 "metadata": {
  "kernelspec": {
   "display_name": "Python 3 (ipykernel)",
   "language": "python",
   "name": "python3"
  },
  "language_info": {
   "codemirror_mode": {
    "name": "ipython",
    "version": 3
   },
   "file_extension": ".py",
   "mimetype": "text/x-python",
   "name": "python",
   "nbconvert_exporter": "python",
   "pygments_lexer": "ipython3",
   "version": "3.9.7"
  }
 },
 "nbformat": 4,
 "nbformat_minor": 5
}
