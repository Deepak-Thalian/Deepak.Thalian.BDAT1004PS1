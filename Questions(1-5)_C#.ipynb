{
 "cells": [
  {
   "cell_type": "markdown",
   "id": "61551041",
   "metadata": {},
   "source": [
    "# Problem Set 1\n",
    "Student: Deepak Thalian, Student ID: 200508054\n",
    "    \n",
    "    \n"
   ]
  },
  {
   "cell_type": "markdown",
   "id": "a46887ac",
   "metadata": {},
   "source": [
    "# Question 1\n",
    " What data type is each of the following?\n",
    " \n",
    "    5 - Integer \n",
    "    5.0 - Float\n",
    "    5 > 1 - Boolean\n",
    "    '5' - Char\n",
    "    5 * 2 - Integer\n",
    "    '5' * 2 - String\n",
    "    '5' + '2' - String\n",
    "    5 / 2 - Float\n",
    "    5 // 2 - Integer\n",
    "    [5, 2, 1] - Integer\n",
    "    5 in [1, 4, 6] - Boolean\n",
    "    Pi (the number) - Float"
   ]
  },
  {
   "cell_type": "markdown",
   "id": "8d17d9d1",
   "metadata": {},
   "source": [
    "# Question 2\n",
    "Write (and evaluate) C# expressions that answer these questions:\n",
    "\n",
    "    a. How many letters are there in 'Supercalifragilisticexpialidocious'?\n",
    "\n",
    "    b. Does 'Supercalifragilisticexpialidocious' contain 'ice' as a substring?\n",
    "\n",
    "    c. Which of the following words is the longest:\n",
    "        Supercalifragilisticexpialidocious, Honorificabilitudinitatibus, or\n",
    "        Bababadalgharaghtakamminarronnkonn?\n",
    "\n",
    "    d. Which composer comes first in the dictionary: 'Berlioz', 'Borodin', 'Brian',\n",
    "    'Bartok', 'Bellini', 'Buxtehude', 'Bernstein'. Which one comes last?"
   ]
  },
  {
   "cell_type": "code",
   "execution_count": 3,
   "id": "a2514b41",
   "metadata": {},
   "outputs": [
    {
     "name": "stdout",
     "output_type": "stream",
     "text": [
      "Numbers of letters in Supercalifragilisticexpialidocious is 34 \r\n"
     ]
    }
   ],
   "source": [
    "// 2.a\n",
    "\n",
    "string word = \"Supercalifragilisticexpialidocious\";\n",
    "Console.WriteLine ($\"Numbers of letters in {word} is {word.Length} \");"
   ]
  },
  {
   "cell_type": "code",
   "execution_count": 4,
   "id": "27e472fc",
   "metadata": {},
   "outputs": [
    {
     "name": "stdout",
     "output_type": "stream",
     "text": [
      "Supercalifragilisticexpialidocious has ice as a substring\r\n"
     ]
    }
   ],
   "source": [
    "// 2.b\n",
    "string word = \"Supercalifragilisticexpialidocious\" ;  \n",
    "if (word.Contains(\"ice\"))\n",
    "    {\n",
    "    Console.WriteLine(word +\" has ice as a substring\");\n",
    "    }"
   ]
  },
  {
   "cell_type": "code",
   "execution_count": 2,
   "id": "d0566e35",
   "metadata": {},
   "outputs": [
    {
     "name": "stdout",
     "output_type": "stream",
     "text": [
      "Supercalifragilisticexpialidocious and Bababadalgharaghtakamminarronnkonn are the longest words.\r\n"
     ]
    }
   ],
   "source": [
    "// ques 2.c\n",
    "String str1 = \"Supercalifragilisticexpialidocious\";\n",
    "String str2 = \"Honorificabilitudinitatibus\";\n",
    "String str3 = \"Bababadalgharaghtakamminarronnkonn\";\n",
    "int str1_length = str1.Length;\n",
    "int str2_length = str2.Length;\n",
    "int str3_length = str3.Length;\n",
    "\n",
    "while (str1_length > str2_length && str1_length > str3_length)\n",
    "{\n",
    "    Console.WriteLine(\"{0} is the longest word.\",str1);\n",
    "    break;\n",
    "}\n",
    "while (str2_length > str1_length && str2_length > str3_length)\n",
    "{\n",
    "    Console.WriteLine(\"{0} is the longest word.\", str2);\n",
    "    break;\n",
    "}\n",
    "while (str3_length > str1_length && str3_length > str2_length)\n",
    "{\n",
    "    Console.WriteLine(\"{0} is the longest word.\", str3);\n",
    "    break;\n",
    "}\n",
    "while (str1_length == str2_length)\n",
    "{\n",
    "    Console.WriteLine(\"{0} and {1} are the longest words.\", str1,str2);\n",
    "    break;\n",
    "}\n",
    "while (str2_length == str3_length)\n",
    "{\n",
    "    Console.WriteLine(\"{0} and {1} are the longest words.\", str2, str3);\n",
    "    break;\n",
    "}\n",
    "while (str1_length == str3_length)\n",
    "{\n",
    "    Console.WriteLine(\"{0} and {1} are the longest words.\", str1, str3);\n",
    "    break;\n",
    "}"
   ]
  },
  {
   "cell_type": "code",
   "execution_count": 6,
   "id": "9562e582",
   "metadata": {},
   "outputs": [
    {
     "name": "stdout",
     "output_type": "stream",
     "text": [
      "The first composer in Dictionary is Bartok\n",
      "The Last composer in Dictionary is Buxtehude\n"
     ]
    }
   ],
   "source": [
    "// 2.d\n",
    "\n",
    "string[] words = {\"Berlioz\", \"Borodin\", \"Brian\",\"Bartok\", \"Bellini\", \"Buxtehude\", \"Bernstein\"};\n",
    "Array.Sort(words);  \n",
    "Console.WriteLine($\"The first composer in Dictionary is {words[0]}\");\n",
    "Array.Reverse(words);\n",
    "Console.WriteLine($\"The Last composer in Dictionary is {words[0]}\");"
   ]
  },
  {
   "cell_type": "markdown",
   "id": "65b4a10e",
   "metadata": {},
   "source": [
    "# Question 3\n",
    "Implement function triangleArea(a,b,c) that takes as input the lengths of the 3\n",
    "sides of a triangle and returns the area of the triangle. By Heron's formula, the area\n",
    "of a triangle with side lengths a, b, and c is s(s - a)(s -b)(s -c), where\n",
    "\n",
    "s = (a+b+c)/2.\n",
    ">>> triangleArea(2,2,2)\n",
    "1.7320508075688772"
   ]
  },
  {
   "cell_type": "code",
   "execution_count": 7,
   "id": "8e745db9",
   "metadata": {},
   "outputs": [
    {
     "name": "stdout",
     "output_type": "stream",
     "text": [
      "Area of Triangle = 1.7320508075688772\r\n"
     ]
    }
   ],
   "source": [
    "public void triangleArea(double a, double b, double c){\n",
    "    \n",
    "    double s= (a+b+c)/2;\n",
    "    double ar = Math.Sqrt(s*(s-a)*(s-b)*(s-c));\n",
    "    Console.WriteLine(\"Area of Triangle = {0}\",ar);\n",
    "    \n",
    "    }\n",
    "triangleArea(2,2,2);"
   ]
  },
  {
   "cell_type": "markdown",
   "id": "db9f8344",
   "metadata": {},
   "source": [
    "# Question 4\n",
    "Write a program in C# Sharp to separate odd and even integers in separate arrays.\n",
    "\n",
    "Go to the editor\n",
    "\n",
    "Test Data :\n",
    "\n",
    "Input the number of elements to be stored in the array :5\n",
    "\n",
    "Input 5 elements in the array :\n",
    "\n",
    "element - 0 : 25\n",
    "\n",
    "element - 1 : 47\n",
    "\n",
    "element - 2 : 42\n",
    "\n",
    "element - 3 : 56\n",
    "\n",
    "element - 4 : 32\n",
    "\n",
    "\n",
    "Expected Output:\n",
    "\n",
    "The Even elements are:\n",
    "\n",
    "42 56 32\n",
    "\n",
    "The Odd elements are :\n",
    "\n",
    "25 47"
   ]
  },
  {
   "cell_type": "code",
   "execution_count": 8,
   "id": "d1d1ca16",
   "metadata": {},
   "outputs": [
    {
     "name": "stdout",
     "output_type": "stream",
     "text": [
      "Even numbers :\n",
      "42\n",
      "56\n",
      "32\n",
      "\n",
      "Odd numbers :\n",
      "25\n",
      "47\n",
      "\n"
     ]
    }
   ],
   "source": [
    "int[] values ={25,47,42,56,32}; \n",
    "      \n",
    "        string evennumbers =\"\"; \n",
    "        string oddnumbers =\"\"; \n",
    "        \n",
    "        foreach (var number in values)  \n",
    "        {  \n",
    "            if (number % 2 == 0)  \n",
    "            {evennumbers = evennumbers + number + \"\\n\";} \n",
    "            else { oddnumbers = oddnumbers + number + \"\\n\" ; } \n",
    "        }\n",
    "    Console.WriteLine($\"Even numbers :\");\n",
    "    Console.WriteLine($\"{evennumbers}\");\n",
    "    Console.WriteLine($\"Odd numbers :\");\n",
    "    Console.WriteLine($\"{oddnumbers}\");"
   ]
  },
  {
   "cell_type": "markdown",
   "id": "56d40f26",
   "metadata": {},
   "source": [
    "# Question 5\n",
    "a. Write a function inside(x,y,x1,y1,x2,y2) that returns True or False\n",
    "depending on whether the point (x,y) lies in the rectangle with lower left\n",
    "corner (x1,y1) and upper right corner (x2,y2).\n",
    ">>> inside(1,1,0,0,2,3)\n",
    "True\n",
    ">>> inside(-1,-1,0,0,2,3)\n",
    "False\n",
    "\n",
    "b. Use function inside() from part a. to write an expression that tests whether\n",
    "the point (1,1) lies in both of the following rectangles: one with lower left\n",
    "corner (0.3, 0.5) and upper right corner (1.1, 0.7) and the other with lower\n",
    "left corner (0.5, 0.2) and upper right corner (1.1, 2). "
   ]
  },
  {
   "cell_type": "code",
   "execution_count": 10,
   "id": "eda8c797",
   "metadata": {},
   "outputs": [
    {
     "name": "stdout",
     "output_type": "stream",
     "text": [
      "inside(1,1,0,0,2,3)\n",
      "True\n",
      "inside(-1,-1,0,0,2,3)\n",
      "False\n",
      "point (1,1) lies in both of the rectangles (0.3,0.5,1.1,0.7) and (0.5,0.2,1.1,2)\n",
      "False\n"
     ]
    }
   ],
   "source": [
    "public bool FindPoint(double x,double y,double x1,double y1,double x2,double y2){\n",
    "    if (x > x1 && x < x2 && y > y1 && y < y2) \n",
    "        return true; \n",
    "    return false; \n",
    "} \n",
    "\n",
    "// 5a\n",
    "Console.WriteLine($\"inside(1,1,0,0,2,3)\");\n",
    "Console.WriteLine($\"{FindPoint(1,1,0,0,2,3)}\");\n",
    "\n",
    "Console.WriteLine($\"inside(-1,-1,0,0,2,3)\");\n",
    "Console.WriteLine($\"{FindPoint(-1,-1,0,0,2,3)}\");\n",
    "\n",
    "// 5b\n",
    "Console.WriteLine($\"point (1,1) lies in both of the rectangles (0.3,0.5,1.1,0.7) and (0.5,0.2,1.1,2)\");\n",
    "Console.WriteLine($\"{FindPoint(1,1,0.3,0.5,1.1,0.7) && FindPoint(1,1,0.5,0.2,1.1,2)}\");"
   ]
  },
  {
   "cell_type": "code",
   "execution_count": null,
   "id": "278605ec",
   "metadata": {},
   "outputs": [],
   "source": []
  }
 ],
 "metadata": {
  "kernelspec": {
   "display_name": ".NET (C#)",
   "language": "C#",
   "name": ".net-csharp"
  },
  "language_info": {
   "file_extension": ".cs",
   "mimetype": "text/x-csharp",
   "name": "C#",
   "pygments_lexer": "csharp",
   "version": "8.0"
  }
 },
 "nbformat": 4,
 "nbformat_minor": 5
}
